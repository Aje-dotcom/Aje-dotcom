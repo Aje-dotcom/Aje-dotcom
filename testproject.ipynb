{
    "cells": [
        {
            "cell_type": "code",
            "execution_count": 1,
            "metadata": {
                "scrolled": true
            },
            "outputs": [
                {
                    "ename": "ModuleNotFoundError",
                    "evalue": "No module named 'PoseModule'",
                    "output_type": "error",
                    "traceback": [
                        "\u001b[0;31m---------------------------------------------------------------------------\u001b[0m",
                        "\u001b[0;31mModuleNotFoundError\u001b[0m                       Traceback (most recent call last)",
                        "\u001b[0;32m/tmp/wsuser/ipykernel_254/335807602.py\u001b[0m in \u001b[0;36m<module>\u001b[0;34m\u001b[0m\n\u001b[1;32m      3\u001b[0m \u001b[0;32mimport\u001b[0m \u001b[0mcv2\u001b[0m\u001b[0;34m\u001b[0m\u001b[0;34m\u001b[0m\u001b[0m\n\u001b[1;32m      4\u001b[0m \u001b[0;32mimport\u001b[0m \u001b[0mtime\u001b[0m\u001b[0;34m\u001b[0m\u001b[0;34m\u001b[0m\u001b[0m\n\u001b[0;32m----> 5\u001b[0;31m \u001b[0;32mimport\u001b[0m \u001b[0mPoseModule\u001b[0m \u001b[0;32mas\u001b[0m \u001b[0mpm\u001b[0m\u001b[0;34m\u001b[0m\u001b[0;34m\u001b[0m\u001b[0m\n\u001b[0m\u001b[1;32m      6\u001b[0m \u001b[0;34m\u001b[0m\u001b[0m\n\u001b[1;32m      7\u001b[0m \u001b[0mcap\u001b[0m \u001b[0;34m=\u001b[0m \u001b[0mcv2\u001b[0m\u001b[0;34m.\u001b[0m\u001b[0mVideoCapture\u001b[0m\u001b[0;34m(\u001b[0m\u001b[0;34m'PoseVideos/9.mp4'\u001b[0m\u001b[0;34m)\u001b[0m\u001b[0;34m\u001b[0m\u001b[0;34m\u001b[0m\u001b[0m\n",
                        "\u001b[0;31mModuleNotFoundError\u001b[0m: No module named 'PoseModule'"
                    ]
                }
            ],
            "source": "# Test Project                   #\n##################################\nimport cv2\nimport time\nimport PoseModule as pm\n \ncap = cv2.VideoCapture('PoseVideos/9.mp4')\npTime = 0\ndetector = pm.poseDetector()\nwhile True:\n    success, img = cap.read()\n    img = detector.findPose(img)\n    lmList = detector.findPosition(img, draw=False)\n    if len(lmList) !=0:\n        print(lmList[14])\n        cv2.circle(img, (lmList[14][1], lmList[14][2]), 15, (0, 0, 255), cv2.FILLED)\n \n    cTime = time.time()\n    fps = 1 / (cTime - pTime)\n    pTime = cTime\n \n    cv2.putText(img, str(int(fps)), (70, 50), cv2.FONT_HERSHEY_PLAIN, 3,\n                (255, 0, 0), 3)\n \n    cv2.imshow(\"Image\", img)\n    cv2.waitKey(1)"
        },
        {
            "cell_type": "code",
            "execution_count": 2,
            "metadata": {},
            "outputs": [
                {
                    "name": "stdout",
                    "output_type": "stream",
                    "text": "15\n"
                }
            ],
            "source": "print(7+8)\n"
        },
        {
            "cell_type": "code",
            "execution_count": 3,
            "metadata": {},
            "outputs": [
                {
                    "name": "stdout",
                    "output_type": "stream",
                    "text": "All the boxes has 58200 pencils\n"
                }
            ],
            "source": "'''\nA shopkeeper has 2425 boxes of 24 pencils each. How many pencils do all the boxes have in all?\n\n3. Linda bought a coat for $2265 and a saree for $2150. She gave $5000 to the shopkeeper. How much money did the shopkeeper return to her?\n\n4. The cost of 21 TV sets is $95844. Find the cost of one TV set.\n\n5. A factory produces 24532 bulbs in a month. What is its annual production?\n'''\nshopk = 2425\nbox = 24\npencil = shopk * box\nprint(\"All the boxes has\",pencil, \"pencils\")"
        },
        {
            "cell_type": "code",
            "execution_count": 5,
            "metadata": {},
            "outputs": [
                {
                    "name": "stdout",
                    "output_type": "stream",
                    "text": "The shopkeeper returned a balance of $ 585\n"
                }
            ],
            "source": "a_coat = 2265\na_saree = 2150\nshopper = 5000 - (a_saree + a_coat)\nprint(\"The shopkeeper returned a balance of $\",shopper)"
        },
        {
            "cell_type": "code",
            "execution_count": 7,
            "metadata": {},
            "outputs": [
                {
                    "name": "stdout",
                    "output_type": "stream",
                    "text": "The cost a TV set is $ 4564.0\n"
                }
            ],
            "source": "tvsets = 95844\ntvset = 95844 /21\nprint(\"The cost a TV set is $\", tvset)"
        },
        {
            "cell_type": "code",
            "execution_count": 9,
            "metadata": {},
            "outputs": [
                {
                    "name": "stdout",
                    "output_type": "stream",
                    "text": "The total bulb production per year is  294384 bulbs\n"
                }
            ],
            "source": "monthly_bulb= 24532\nannual_bulb = 12 * monthly_bulb\nprint(\"The total bulb production per year is \", annual_bulb, \"bulbs\")"
        },
        {
            "cell_type": "code",
            "execution_count": 1,
            "metadata": {},
            "outputs": [
                {
                    "data": {
                        "text/plain": "25"
                    },
                    "execution_count": 1,
                    "metadata": {},
                    "output_type": "execute_result"
                }
            ],
            "source": "2+23\n"
        },
        {
            "cell_type": "code",
            "execution_count": null,
            "metadata": {},
            "outputs": [],
            "source": ""
        }
    ],
    "metadata": {
        "celltoolbar": "Attachments",
        "kernelspec": {
            "display_name": "Python 3.9",
            "language": "python",
            "name": "python3"
        },
        "language_info": {
            "codemirror_mode": {
                "name": "ipython",
                "version": 3
            },
            "file_extension": ".py",
            "mimetype": "text/x-python",
            "name": "python",
            "nbconvert_exporter": "python",
            "pygments_lexer": "ipython3",
            "version": "3.9.12"
        }
    },
    "nbformat": 4,
    "nbformat_minor": 1
}